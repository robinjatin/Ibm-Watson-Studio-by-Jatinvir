{
    "cells": [
        {
            "cell_type": "markdown",
            "metadata": {
                "collapsed": true
            },
            "source": "# My Jupyter Notebook on IBM Data Science Experience"
        },
        {
            "cell_type": "markdown",
            "metadata": {},
            "source": "**Jatinvir Singh**  \nI am a computer science engineering student currently in the 3rd year."
        },
        {
            "cell_type": "markdown",
            "metadata": {},
            "source": "*I am interested in data science because data science Is The Most Exciting Career. In today's world, whatever your job, having skills and knowledge in Data Science will play a huge role in your career development.*"
        },
        {
            "cell_type": "markdown",
            "metadata": {},
            "source": "### I will write a code to print the name of my birthplace."
        },
        {
            "cell_type": "code",
            "execution_count": 3,
            "metadata": {},
            "outputs": [
                {
                    "name": "stdout",
                    "output_type": "stream",
                    "text": " Chandigarh\n"
                }
            ],
            "source": "i=\" Chandigarh\"\nprint(i)"
        },
        {
            "cell_type": "markdown",
            "metadata": {},
            "source": "This is a ~~lisst~~ list\n\n---\n\n1. Data Science\n2. IBM Watson Studio\n\nAbout *Jatt*:  \n\nJatt's | still | found\n--- | --- | ---\n*match* | `not` | **yeah**\n1 | 2 | 3\n\n\n[Jatinvir's Instagram account.](https://www.instagram.com/robinjatin/?hl=en)  \n\n\n\nOpen hand monument of Chandigarh:  \n![alt text](https://chandigarhbytes.com/wp-content/uploads/2016/12/Le-Corbusier.jpg)"
        },
        {
            "cell_type": "code",
            "execution_count": null,
            "metadata": {},
            "outputs": [],
            "source": ""
        }
    ],
    "metadata": {
        "kernelspec": {
            "display_name": "Python 3.6",
            "language": "python",
            "name": "python3"
        },
        "language_info": {
            "codemirror_mode": {
                "name": "ipython",
                "version": 3
            },
            "file_extension": ".py",
            "mimetype": "text/x-python",
            "name": "python",
            "nbconvert_exporter": "python",
            "pygments_lexer": "ipython3",
            "version": "3.6.8"
        }
    },
    "nbformat": 4,
    "nbformat_minor": 1
}